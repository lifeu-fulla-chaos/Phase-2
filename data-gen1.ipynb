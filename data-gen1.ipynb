{
 "cells": [
  {
   "cell_type": "code",
   "execution_count": 1,
   "id": "4363f435",
   "metadata": {
    "_cell_guid": "b1076dfc-b9ad-4769-8c92-a6c4dae69d19",
    "_uuid": "8f2839f25d086af736a60e9eeb907d3b93b6e0e5",
    "execution": {
     "iopub.execute_input": "2025-04-08T01:56:42.885850Z",
     "iopub.status.busy": "2025-04-08T01:56:42.885281Z",
     "iopub.status.idle": "2025-04-08T01:56:44.704404Z",
     "shell.execute_reply": "2025-04-08T01:56:44.703189Z"
    },
    "papermill": {
     "duration": 1.82615,
     "end_time": "2025-04-08T01:56:44.706697",
     "exception": false,
     "start_time": "2025-04-08T01:56:42.880547",
     "status": "completed"
    },
    "tags": []
   },
   "outputs": [],
   "source": [
    "import numpy as np\n",
    "import pandas as pd\n",
    "import os\n",
    "import time\n",
    "import random\n",
    "import zipfile\n",
    "import shutil\n",
    "from tqdm import tqdm\n",
    "from scipy.integrate import solve_ivp\n",
    "\n",
    "# Set up constants\n",
    "NUM_DATASETS = 10000  # Number of parameter combinations\n",
    "ITERATIONS = 10000    # Number of states for each trajectory\n",
    "DT = 0.001            # Time step\n",
    "\n",
    "# Parameter ranges\n",
    "RHO_RANGE = (20, 100)\n",
    "SIGMA_RANGE = (5, 45)\n",
    "BETA_RANGE = (0.1, 5)\n",
    "\n",
    "# Initial conditions range\n",
    "IC_RANGE = (-30, 30)\n",
    "\n",
    "def lorenz_system(t, state, sigma, rho, beta):\n",
    "    \"\"\"Compute the derivatives for the Lorenz system\"\"\"\n",
    "    x, y, z = state\n",
    "    dx = sigma * (y - x)\n",
    "    dy = x * (rho - z) - y\n",
    "    dz = x * y - beta * z\n",
    "    return [dx, dy, dz]\n",
    "\n",
    "def generate_trajectory(x0, y0, z0, sigma, rho, beta, iterations=10000):\n",
    "    \"\"\"Generate a complete trajectory for the Lorenz system using SciPy's RK45\"\"\"\n",
    "    initial_state = [x0, y0, z0]\n",
    "    t_span = (0, DT * iterations)\n",
    "    t_eval = np.linspace(0, DT * iterations, iterations)\n",
    "\n",
    "    solution = solve_ivp(\n",
    "        fun=lambda t, y: lorenz_system(t, y, sigma, rho, beta),\n",
    "        t_span=t_span,\n",
    "        y0=initial_state,\n",
    "        method='RK45',\n",
    "        t_eval=t_eval,\n",
    "        rtol=1e-8,\n",
    "        atol=1e-8\n",
    "    )\n",
    "\n",
    "    if not solution.success:\n",
    "        return None\n",
    "\n",
    "    # Check for divergence or convergence\n",
    "    max_values = np.max(np.abs(solution.y), axis=1)\n",
    "    if np.any(max_values > 1e8) or np.all(np.abs(solution.y[:, -1]) < 1e-8):\n",
    "        return None\n",
    "\n",
    "    return solution.y.T  "
   ]
  },
  {
   "cell_type": "code",
   "execution_count": 2,
   "id": "f20e1e15",
   "metadata": {
    "execution": {
     "iopub.execute_input": "2025-04-08T01:56:44.713705Z",
     "iopub.status.busy": "2025-04-08T01:56:44.713005Z",
     "iopub.status.idle": "2025-04-08T01:56:44.722249Z",
     "shell.execute_reply": "2025-04-08T01:56:44.720932Z"
    },
    "papermill": {
     "duration": 0.014931,
     "end_time": "2025-04-08T01:56:44.724553",
     "exception": false,
     "start_time": "2025-04-08T01:56:44.709622",
     "status": "completed"
    },
    "tags": []
   },
   "outputs": [],
   "source": [
    "def main():\n",
    "    data_dir = \"lorenz_data_separate\"\n",
    "    os.makedirs(data_dir, exist_ok=True)\n",
    "\n",
    "    print(f\"Starting generation of {NUM_DATASETS} Lorenz system datasets...\")\n",
    "\n",
    "    count = 0\n",
    "    attempts = 0\n",
    "\n",
    "    with tqdm(total=NUM_DATASETS) as pbar:\n",
    "        while count < NUM_DATASETS and attempts < NUM_DATASETS * 2:\n",
    "            attempts += 1\n",
    "\n",
    "            sigma = random.uniform(*SIGMA_RANGE)\n",
    "            rho = random.uniform(*RHO_RANGE)\n",
    "            beta = random.uniform(*BETA_RANGE)\n",
    "\n",
    "            # Random initial conditions\n",
    "            x0 = random.uniform(*IC_RANGE)\n",
    "            y0 = random.uniform(*IC_RANGE)\n",
    "            z0 = random.uniform(*IC_RANGE)\n",
    "\n",
    "            if abs(x0) < 1e-10 and abs(y0) < 1e-10 and abs(z0) < 1e-10:\n",
    "                x0 = 0.1  # Avoid all-zero start\n",
    "\n",
    "            data = generate_trajectory(x0, y0, z0, sigma, rho, beta, ITERATIONS)\n",
    "\n",
    "            if data is None:\n",
    "                continue\n",
    "\n",
    "            count += 1\n",
    "            pbar.update(1)\n",
    "\n",
    "            # Create a unique filename based on parameters\n",
    "            filename = f\"{count + 10000}_{x0:.4f}_{y0:.4f}_{z0:.4f}_{sigma:.4f}_{rho:.4f}_{beta:.4f}.csv\"            \n",
    "            filepath = os.path.join(data_dir, filename)\n",
    "\n",
    "            df = pd.DataFrame(data, columns=['x', 'y', 'z'])\n",
    "            df.to_csv(filepath, index=False, float_format='%.5f')\n",
    "    print(f\"Successfully generated {count} datasets after {attempts} attempts!\")\n",
    "    print(\"Process complete!\")"
   ]
  },
  {
   "cell_type": "code",
   "execution_count": 3,
   "id": "25a9a4e3",
   "metadata": {
    "execution": {
     "iopub.execute_input": "2025-04-08T01:56:44.730589Z",
     "iopub.status.busy": "2025-04-08T01:56:44.730101Z",
     "iopub.status.idle": "2025-04-08T02:49:15.520766Z",
     "shell.execute_reply": "2025-04-08T02:49:15.519278Z"
    },
    "papermill": {
     "duration": 3150.795642,
     "end_time": "2025-04-08T02:49:15.522648",
     "exception": false,
     "start_time": "2025-04-08T01:56:44.727006",
     "status": "completed"
    },
    "tags": []
   },
   "outputs": [
    {
     "name": "stdout",
     "output_type": "stream",
     "text": [
      "Starting generation of 10000 Lorenz system datasets...\n"
     ]
    },
    {
     "name": "stderr",
     "output_type": "stream",
     "text": [
      "100%|██████████| 10000/10000 [52:30<00:00,  3.17it/s]"
     ]
    },
    {
     "name": "stdout",
     "output_type": "stream",
     "text": [
      "Successfully generated 10000 datasets after 10000 attempts!\n",
      "Process complete!\n"
     ]
    },
    {
     "name": "stderr",
     "output_type": "stream",
     "text": [
      "\n"
     ]
    }
   ],
   "source": [
    "main()"
   ]
  },
  {
   "cell_type": "markdown",
   "id": "943607ae",
   "metadata": {
    "papermill": {
     "duration": 0.552266,
     "end_time": "2025-04-08T02:49:16.740085",
     "exception": false,
     "start_time": "2025-04-08T02:49:16.187819",
     "status": "completed"
    },
    "tags": []
   },
   "source": []
  }
 ],
 "metadata": {
  "kaggle": {
   "accelerator": "none",
   "dataSources": [],
   "dockerImageVersionId": 30918,
   "isGpuEnabled": false,
   "isInternetEnabled": true,
   "language": "python",
   "sourceType": "notebook"
  },
  "kernelspec": {
   "display_name": "Python 3",
   "language": "python",
   "name": "python3"
  },
  "language_info": {
   "codemirror_mode": {
    "name": "ipython",
    "version": 3
   },
   "file_extension": ".py",
   "mimetype": "text/x-python",
   "name": "python",
   "nbconvert_exporter": "python",
   "pygments_lexer": "ipython3",
   "version": "3.10.12"
  },
  "papermill": {
   "default_parameters": {},
   "duration": 3158.487037,
   "end_time": "2025-04-08T02:49:18.271817",
   "environment_variables": {},
   "exception": null,
   "input_path": "__notebook__.ipynb",
   "output_path": "__notebook__.ipynb",
   "parameters": {},
   "start_time": "2025-04-08T01:56:39.784780",
   "version": "2.6.0"
  }
 },
 "nbformat": 4,
 "nbformat_minor": 5
}
